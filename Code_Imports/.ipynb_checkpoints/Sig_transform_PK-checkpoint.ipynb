{
 "cells": [
  {
   "cell_type": "code",
   "execution_count": 1,
   "id": "57c8caa3",
   "metadata": {},
   "outputs": [],
   "source": [
    "import numpy as np"
   ]
  },
  {
   "cell_type": "markdown",
   "id": "02281d0a",
   "metadata": {},
   "source": [
    "# Synthetic data-generation "
   ]
  },
  {
   "cell_type": "markdown",
   "id": "23c77860",
   "metadata": {},
   "source": [
    "We want to generate an d-dimensional timeseries that we will then compute a signature for assuming a linear interpolation (using Chen's Relation)."
   ]
  },
  {
   "cell_type": "code",
   "execution_count": 2,
   "id": "ef9bd4ed",
   "metadata": {},
   "outputs": [],
   "source": [
    "def generate_ts(d,T):\n",
    "    '''\n",
    "    returns random tensor of shape (d, T) representing an n-dimensional timeseries indexed at t=1,2,...,T\n",
    "    each entry is drawn from Uniform(0,1)\n",
    "    '''\n",
    "    return np.random.uniform(size=(d, T))"
   ]
  },
  {
   "cell_type": "markdown",
   "id": "19375b37",
   "metadata": {},
   "source": [
    "# Tensor Algebra operations"
   ]
  },
  {
   "cell_type": "markdown",
   "id": "98246c6c",
   "metadata": {},
   "source": [
    "We are interested in using the tensor exponential of a d-dimensional vector. This lives in the tensor algebra so we can truncate to a certain level."
   ]
  },
  {
   "cell_type": "code",
   "execution_count": 3,
   "id": "6abc7043",
   "metadata": {},
   "outputs": [],
   "source": [
    "def tensor_outer_product(x, y):\n",
    "    '''\n",
    "    x, y are d-dimensional vectors\n",
    "    returns the outer-product flattened\n",
    "    '''\n",
    "    return np.outer(x,y).flatten()"
   ]
  },
  {
   "cell_type": "code",
   "execution_count": 4,
   "id": "0033a31e",
   "metadata": {},
   "outputs": [],
   "source": [
    "def tensor_exponential(x, trunc_level=3):\n",
    "    '''\n",
    "    x is a d-dimensional vector \n",
    "    returns the tensor exponential of x up to and including trunc_level.\n",
    "    '''\n",
    "    entry = np.array([1])\n",
    "    ret = [entry] + [None]*(trunc_level)\n",
    "    \n",
    "    for i in range(1, trunc_level+1):\n",
    "        entry = tensor_outer_product(entry, x)/i\n",
    "        ret[i] = entry\n",
    "        \n",
    "    return ret"
   ]
  },
  {
   "cell_type": "markdown",
   "id": "9a280967",
   "metadata": {},
   "source": [
    "We can later create a class that can be used for tensor algebra multiplications"
   ]
  },
  {
   "cell_type": "code",
   "execution_count": 5,
   "id": "cc739724",
   "metadata": {},
   "outputs": [],
   "source": [
    "def tensor_alg_mult(a, b):\n",
    "    '''\n",
    "    a and b are elements of the extended tensor algebra of complementary dimensions\n",
    "    return the tensor algebra product\n",
    "    '''\n",
    "    ret = [np.array([1])] + [None]*(len(a)-1)\n",
    "    \n",
    "    for level in range(1, len(a)):\n",
    "        level_sum = 0\n",
    "        for i in range(level+1):\n",
    "            level_sum += tensor_outer_product(a[i], b[level-i])\n",
    "            \n",
    "        ret[level] = level_sum\n",
    "    \n",
    "    return ret"
   ]
  },
  {
   "cell_type": "code",
   "execution_count": 6,
   "id": "903aafbc",
   "metadata": {},
   "outputs": [],
   "source": [
    "def tensor_alg_identity(d, trunc_level=3):\n",
    "    '''\n",
    "    returns multiplicative identity of truncated tensor algebra\n",
    "    '''\n",
    "    ret = [np.array([1])] + [np.zeros(d**i) for i in range(1, trunc_level+1)]   \n",
    "    \n",
    "    return ret"
   ]
  },
  {
   "cell_type": "code",
   "execution_count": 7,
   "id": "17a4162e",
   "metadata": {},
   "outputs": [],
   "source": [
    "def tensor_algebra_to_vec(a):\n",
    "    '''\n",
    "    takes in an element of the truncated tensor algebra and returns a flattened vector \n",
    "    '''\n",
    "    return np.hstack(a)"
   ]
  },
  {
   "cell_type": "markdown",
   "id": "4f4bac5a",
   "metadata": {},
   "source": [
    "# Signature transform of p.w. linear interpolation via Chen's Identity"
   ]
  },
  {
   "cell_type": "code",
   "execution_count": 8,
   "id": "005c962e",
   "metadata": {},
   "outputs": [],
   "source": [
    "def compute_signature(ts, trunc_level=3, vec=True):\n",
    "    # we can iterate along the timeseries\n",
    "    d, T = ts.shape\n",
    "    \n",
    "    ret = tensor_alg_identity(d, trunc_level)\n",
    "    for t in range(1,T):\n",
    "        ret = tensor_alg_mult(ret, tensor_exponential(ts[:, t] - ts[:, t-1], trunc_level))\n",
    "        \n",
    "    # flatten into vector and omit the first element which is trivially 1 (in the style of iisignatory\n",
    "    if vec:\n",
    "        ret = tensor_algebra_to_vec(ret)[1:]\n",
    "        \n",
    "    return ret"
   ]
  },
  {
   "cell_type": "code",
   "execution_count": 57,
   "id": "54fbbf8a",
   "metadata": {},
   "outputs": [],
   "source": [
    "def SlidingWindowSignature(ts, window, trunc_level, time_aug=False):\n",
    "    '''\n",
    "    Computes signatures on sliding windows more efficiently by using negative exponential\n",
    "    \n",
    "    input is T steps of a d-dimensional timeseries, as an array of dimension (d, T)\n",
    "    \n",
    "    returns array of dimension (M, T) where M = d**1 + d**2 + ... + d**trunc_level\n",
    "    '''\n",
    "    if time_aug:    \n",
    "        # augmented path with unit linear time\n",
    "        ts = np.vstack([ts, np.arange(ts.shape[1])])\n",
    "\n",
    "    window_sig = compute_signature(ts[:, :window], vec=False, trunc_level=trunc_level)\n",
    "    ret_list = []\n",
    "\n",
    "    for t in range(1, ts.shape[1] - window + 1):\n",
    "        ret_list.append(tensor_algebra_to_vec(window_sig))\n",
    "\n",
    "        a = tensor_exponential(ts[:, t-1] - ts[:,t], trunc_level=trunc_level)\n",
    "        b = window_sig\n",
    "        c = tensor_exponential(ts[:, t+window-1] - ts[:, t+window-2], trunc_level=trunc_level)\n",
    "\n",
    "        window_sig = tensor_alg_mult(tensor_alg_mult(a,b),c)\n",
    "    \n",
    "    ret_list.append(tensor_algebra_to_vec(window_sig))\n",
    "    ret = np.vstack(ret_list)\n",
    "    \n",
    "    # pad with nans during observation period to get the same length as input timeseries\n",
    "    ret = np.vstack([np.nan*np.ones(shape=(window-1, ret.shape[1])), ret])\n",
    "    \n",
    "    # drop trivial column of ones\n",
    "    return ret[:, 1:].T"
   ]
  },
  {
   "cell_type": "code",
   "execution_count": 67,
   "id": "bac85b25",
   "metadata": {},
   "outputs": [],
   "source": [
    "# ts = generate_ts(1, 100)\n",
    "# window = 10\n",
    "# trunc_level = 3\n",
    "\n",
    "# SlidingWindowSig = SlidingWindowSignature(ts, window, trunc_level, time_aug=True)"
   ]
  },
  {
   "cell_type": "code",
   "execution_count": null,
   "id": "7bc3387f",
   "metadata": {},
   "outputs": [],
   "source": []
  },
  {
   "cell_type": "code",
   "execution_count": null,
   "id": "df5dbb25",
   "metadata": {},
   "outputs": [],
   "source": []
  },
  {
   "cell_type": "code",
   "execution_count": null,
   "id": "177becea",
   "metadata": {},
   "outputs": [],
   "source": []
  }
 ],
 "metadata": {
  "kernelspec": {
   "display_name": "Python 3 (ipykernel)",
   "language": "python",
   "name": "python3"
  },
  "language_info": {
   "codemirror_mode": {
    "name": "ipython",
    "version": 3
   },
   "file_extension": ".py",
   "mimetype": "text/x-python",
   "name": "python",
   "nbconvert_exporter": "python",
   "pygments_lexer": "ipython3",
   "version": "3.11.5"
  }
 },
 "nbformat": 4,
 "nbformat_minor": 5
}
